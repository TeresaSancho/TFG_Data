{
 "cells": [
  {
   "cell_type": "code",
   "execution_count": 29,
   "metadata": {},
   "outputs": [],
   "source": [
    "# Packages for analysis\n",
    "import pandas as pd\n",
    "import numpy as np\n",
    "from sklearn import svm\n",
    "import random as rdm\n",
    "import math\n",
    "\n",
    "import matplotlib.pyplot as plt\n",
    "\n",
    "\n",
    "# Scikit Imports\n",
    "from sklearn import datasets, svm, metrics\n",
    "from sklearn.model_selection import train_test_split\n",
    "from sklearn.svm import SVC\n",
    "from sklearn.metrics import classification_report, confusion_matrix\n",
    "\n",
    "# Packages for analysis\n",
    "import pandas as pd"
   ]
  },
  {
   "cell_type": "code",
   "execution_count": 85,
   "metadata": {},
   "outputs": [
    {
     "data": {
      "text/plain": [
       "array([[-7.63544305e-09+0.j,  6.51851200e-10+0.j,  1.55354741e-09+0.j,\n",
       "        ..., -3.33342281e-08+0.j,  9.72545099e-01+0.j,\n",
       "         2.50000000e-01+0.j],\n",
       "       [-7.96850533e-09+0.j,  7.15580966e-10+0.j,  1.56112612e-09+0.j,\n",
       "        ..., -3.42715000e-08+0.j,  9.72212909e-01+0.j,\n",
       "         2.51501502e-01+0.j],\n",
       "       [-8.31425654e-09+0.j,  7.81908084e-10+0.j,  1.56784846e-09+0.j,\n",
       "        ..., -3.52091586e-08+0.j,  9.71878695e-01+0.j,\n",
       "         2.53003003e-01+0.j],\n",
       "       ...,\n",
       "       [-1.11247120e-03+0.j, -1.07651713e-03+0.j,  1.06758628e-03+0.j,\n",
       "        ...,  3.47300150e-02+0.j,  6.90728849e-02+0.j,\n",
       "         1.74699700e+00+0.j],\n",
       "       [-1.11286942e-03+0.j, -1.08097744e-03+0.j,  1.07217080e-03+0.j,\n",
       "        ...,  3.47710870e-02+0.j,  6.88399615e-02+0.j,\n",
       "         1.74849850e+00+0.j],\n",
       "       [-1.11326676e-03+0.j, -1.08542936e-03+0.j,  1.07674646e-03+0.j,\n",
       "        ...,  3.48114934e-02+0.j,  6.86081830e-02+0.j,\n",
       "         1.75000000e+00+0.j]])"
      ]
     },
     "execution_count": 85,
     "metadata": {},
     "output_type": "execute_result"
    }
   ],
   "source": [
    "N = 14\n",
    "datafile = 'data/DATOS_N=' + str(N) + '_0p25-1p75_1000_totest.npy'\n",
    "data = np.load(datafile)\n",
    "data"
   ]
  },
  {
   "cell_type": "code",
   "execution_count": 86,
   "metadata": {},
   "outputs": [
    {
     "name": "stdout",
     "output_type": "stream",
     "text": [
      "(1000, 16385)\n",
      "(868, 16385)\n",
      "(132, 16385)\n",
      "(132,)\n"
     ]
    }
   ],
   "source": [
    "train=np.zeros((1, data.shape[1]))\n",
    "test=data.copy()\n",
    "print(test.shape)\n",
    "\n",
    "#construimos dos datasets train y test\n",
    " \n",
    "\n",
    "\n",
    "for i, J in enumerate (data[:, data.shape[1]-1], 0):\n",
    "    if J>0.6 and J<0.7:\n",
    "        train=np.append(train, [data[i, :]], axis=0)\n",
    "        #test=np.delete(test, i, axis=0)\n",
    "    if J>1.6 and J<1.7:\n",
    "        train=np.append(train, [data[i, :]], axis=0)\n",
    "        #test=np.delete(test, i, axis=0)\n",
    "        \n",
    "train=np.delete(train, 0, axis=0)\n",
    "\n",
    "\n",
    "\n",
    "for j, J_train in enumerate (train[:, train.shape[1]-1], 0):\n",
    "    for i, J in enumerate (test[:, test.shape[1]-1], 0):\n",
    "        if J==J_train:\n",
    "            test=np.delete(test, i, axis=0)\n",
    "       \n",
    "\n",
    "print (test.shape)\n",
    "print (train.shape)\n",
    "\n",
    "\"\"\" \n",
    "        \n",
    "#para entrenar con J's aleatorias\n",
    "\n",
    "trainlist=range(0,400)\n",
    "print(len(trainlist))\n",
    "\n",
    "for i, random in enumerate (trainlist):\n",
    "    random=rdm.uniform(0,3)\n",
    "    for j, J in enumerate (data[:, data.shape[1]-1]):\n",
    "        if random-0.00025<J and random+0.00025>J:\n",
    "            train=np.append(train, [data[j, :]], axis=0)\n",
    "        \n",
    "train=np.delete(train, 0, axis=0)\n",
    "\n",
    "\n",
    "for j, J_train in enumerate (train[:, train.shape[1]-1], 0):\n",
    "    for i, J in enumerate (test[:, test.shape[1]-1], 0):\n",
    "        if J==J_train:\n",
    "            test=np.delete(test, i, axis=0)\n",
    "\n",
    "\n",
    "print (test.shape)\n",
    "print (train.shape)\n",
    "\n",
    "\"\"\" \n",
    "\n",
    "#Voy a convertir la última columna en 0,1 siendo 0 la fase desordenada (para) y 1 la fase ordenada(ferro)\n",
    "\n",
    "Jc=1;   #si no se dónde está la Jc cómo separo los datos??? aprox???\n",
    "Jtrain=[]\n",
    "Jtest=[]\n",
    "Jtrain=train[:, train.shape[1]-1].copy()\n",
    "Jtest=test[:, test.shape[1]-1].copy()#si los igualo se guardan por referencia CAUTION!!!!\n",
    "Jtodo=data[:, data.shape[1]-1].copy()\n",
    "\n",
    "for i, J in enumerate (train[:, train.shape[1]-1], 0):\n",
    "    if J<Jc:\n",
    "        train[i, train.shape[1]-1]=0\n",
    "    if J>Jc:\n",
    "        train[i, train.shape[1]-1]=1\n",
    "        \n",
    "for i, J in enumerate (test[:, test.shape[1]-1], 0):\n",
    "    if J<Jc:\n",
    "        test[i, test.shape[1]-1]=0\n",
    "    if J>Jc:\n",
    "        test[i, test.shape[1]-1]=1\n",
    "        \n",
    "for i, J in enumerate (data[:, data.shape[1]-1], 0):\n",
    "    if J<Jc:\n",
    "        data[i, data.shape[1]-1]=0\n",
    "    if J>Jc:\n",
    "        data[i, data.shape[1]-1]=1\n",
    "     \n",
    "Jtrain = np.real(Jtrain)\n",
    "Jtest = np.real(Jtest)\n",
    "Jtodo=np.real(Jtodo)\n",
    "        \n",
    "#Jtrain = Jtrain.reshape(-1,1)\n",
    "print (np.shape(Jtrain))\n",
    "#print (Jtest[2799,])"
   ]
  },
  {
   "cell_type": "code",
   "execution_count": 87,
   "metadata": {},
   "outputs": [
    {
     "name": "stdout",
     "output_type": "stream",
     "text": [
      "(132, 16384)\n",
      "(132, 1)\n",
      "(868, 16384)\n",
      "(868,)\n",
      "(1000, 16384)\n",
      "(1000,)\n"
     ]
    }
   ],
   "source": [
    "#Ya tengo los datos con los que voy a entrenar mi SVM, separo la última columna que es la que clasifica\n",
    "\n",
    "fdo_train=np.delete(train, train.shape[1]-1, axis=1)\n",
    "teorico_train = np.where(train[:, train.shape[1]-1]==0, 0, 1)\n",
    "print(fdo_train.shape)      \n",
    "teorico_train = teorico_train.reshape(-1,1)\n",
    "print(teorico_train.shape)\n",
    "\n",
    "\n",
    "#Hago los mismo con los datos test\n",
    "\n",
    "fdo_test=np.delete(test, train.shape[1]-1, axis=1)\n",
    "teorico_test = np.where(test[:, test.shape[1]-1]==0, 0, 1)\n",
    "print(fdo_test.shape)\n",
    "print(teorico_test.shape)\n",
    "\n",
    "#y otro conjunto que son TODOS los datos juntos\n",
    "\n",
    "fdo_todo=np.delete(data, data.shape[1]-1, axis=1)\n",
    "teorico_todo = np.where(data[:, data.shape[1]-1]==0, 0, 1)\n",
    "print(fdo_todo.shape)\n",
    "print(teorico_todo.shape)"
   ]
  },
  {
   "cell_type": "code",
   "execution_count": 88,
   "metadata": {},
   "outputs": [],
   "source": [
    "#defino mi kernel\n",
    "\n",
    "def mikernel(X, X_p):\n",
    "    result=np.empty((len(X), len(X_p)))\n",
    "    for i, J in enumerate (X[:, 0]):\n",
    "        v1=X[i,:]\n",
    "        for j, J2 in enumerate (X_p[:, 0]):\n",
    "            v2=X_p[j,:]\n",
    "            dot=np.vdot(v1,v2)\n",
    "            result[i][j]=abs(dot)\n",
    "    return(result)\n",
    "    "
   ]
  },
  {
   "cell_type": "code",
   "execution_count": 89,
   "metadata": {},
   "outputs": [
    {
     "name": "stderr",
     "output_type": "stream",
     "text": [
      "/Applications/anaconda3/lib/python3.8/site-packages/sklearn/utils/validation.py:73: DataConversionWarning: A column-vector y was passed when a 1d array was expected. Please change the shape of y to (n_samples, ), for example using ravel().\n",
      "  return f(**kwargs)\n"
     ]
    },
    {
     "name": "stdout",
     "output_type": "stream",
     "text": [
      "(132,)\n",
      "[64 65 66 67]\n"
     ]
    }
   ],
   "source": [
    "model = svm.SVC(kernel = mikernel )\n",
    "model.fit(fdo_train, teorico_train)\n",
    "y_train = model.predict(fdo_train)\n",
    "print(np.shape(y_train))\n",
    "print(model.support_)"
   ]
  },
  {
   "cell_type": "code",
   "execution_count": 90,
   "metadata": {},
   "outputs": [
    {
     "name": "stdout",
     "output_type": "stream",
     "text": [
      "[[66  0]\n",
      " [ 0 66]]\n",
      "              precision    recall  f1-score   support\n",
      "\n",
      "           0       1.00      1.00      1.00        66\n",
      "           1       1.00      1.00      1.00        66\n",
      "\n",
      "    accuracy                           1.00       132\n",
      "   macro avg       1.00      1.00      1.00       132\n",
      "weighted avg       1.00      1.00      1.00       132\n",
      "\n"
     ]
    }
   ],
   "source": [
    "from sklearn.metrics import classification_report, confusion_matrix\n",
    "print(confusion_matrix(teorico_train,y_train))\n",
    "print(classification_report(teorico_train,y_train))"
   ]
  },
  {
   "cell_type": "code",
   "execution_count": 91,
   "metadata": {},
   "outputs": [
    {
     "name": "stdout",
     "output_type": "stream",
     "text": [
      "[64 65 66 67]\n"
     ]
    }
   ],
   "source": [
    "#Ahora lo aplicamos sobre los datos test para probar cómo separa\n",
    "y_test = model.predict(fdo_test)\n",
    "print(model.support_)"
   ]
  },
  {
   "cell_type": "code",
   "execution_count": 92,
   "metadata": {},
   "outputs": [
    {
     "name": "stdout",
     "output_type": "stream",
     "text": [
      "[[434   0]\n",
      " [ 33 401]]\n",
      "              precision    recall  f1-score   support\n",
      "\n",
      "           0       0.93      1.00      0.96       434\n",
      "           1       1.00      0.92      0.96       434\n",
      "\n",
      "    accuracy                           0.96       868\n",
      "   macro avg       0.96      0.96      0.96       868\n",
      "weighted avg       0.96      0.96      0.96       868\n",
      "\n"
     ]
    }
   ],
   "source": [
    "from sklearn.metrics import classification_report, confusion_matrix\n",
    "print(confusion_matrix(teorico_test,y_test))\n",
    "print(classification_report(teorico_test,y_test))"
   ]
  },
  {
   "cell_type": "code",
   "execution_count": 93,
   "metadata": {},
   "outputs": [],
   "source": [
    "originalkernel=mikernel(fdo_todo, fdo_todo)"
   ]
  },
  {
   "cell_type": "code",
   "execution_count": 94,
   "metadata": {},
   "outputs": [
    {
     "name": "stdout",
     "output_type": "stream",
     "text": [
      "(1000,)\n",
      "(1000,)\n",
      "[64 65 66 67]\n"
     ]
    }
   ],
   "source": [
    "#para pintar aplico el modelo a TODO el espacio de J's \n",
    "\n",
    "y_todo = model.predict(fdo_todo)\n",
    "print(y_todo.shape)\n",
    "print(Jtodo.shape)\n",
    "vectors=model.support_vectors_\n",
    "print(model.support_)\n",
    "#print(Jtrain[66])\n",
    "#plt.plot(Jtrain, y_train, 'bo')\n",
    "#np.savetxt(\"predictedN4.txt\", y_todo)\n",
    "\n"
   ]
  },
  {
   "cell_type": "code",
   "execution_count": 95,
   "metadata": {},
   "outputs": [
    {
     "data": {
      "image/png": "[encoded data removed]",
      "text/plain": [
       "<Figure size 720x360 with 1 Axes>"
      ]
     },
     "metadata": {
      "needs_background": "light"
     },
     "output_type": "display_data"
    }
   ],
   "source": [
    "plt.rcParams['figure.figsize'] = 10, 5\n",
    "plt.rcParams['lines.linewidth'] = 1.8\n",
    "plt.rcParams['font.size'] = 18\n",
    "\n",
    "plt.imshow(originalkernel,vmin=0,vmax=1, cmap = 'gray')\n",
    "#plt.savefig(\"Kernel11x11.jpg\")\n",
    "#np.savetxt(\"kernel12x12.txt\", kernel)\n",
    "plt.show()"
   ]
  },
  {
   "cell_type": "code",
   "execution_count": 96,
   "metadata": {},
   "outputs": [
    {
     "name": "stdout",
     "output_type": "stream",
     "text": [
      "1000\n"
     ]
    },
    {
     "data": {
      "text/plain": [
       "[<matplotlib.lines.Line2D at 0x7fcc5a8be850>]"
      ]
     },
     "execution_count": 96,
     "metadata": {},
     "output_type": "execute_result"
    },
    {
     "data": {
      "image/png": "[encoded data removed]",
      "text/plain": [
       "<Figure size 720x360 with 1 Axes>"
      ]
     },
     "metadata": {
      "needs_background": "light"
     },
     "output_type": "display_data"
    }
   ],
   "source": [
    "originaldistance=model.decision_function(fdo_todo)\n",
    "print(len(originaldistance))\n",
    "overlap = np.array([originalkernel[i, i + 1] for i in range(originalkernel.shape[0] - 1)])\n",
    "#plt.plot(Jtodo[1:], overlap, c='k')\n",
    "χ =  (1 - overlap) / (Jtodo[1] - Jtodo[0]) ** 2\n",
    "plt.plot(Jtodo[1:], χ, c='k')"
   ]
  },
  {
   "cell_type": "code",
   "execution_count": 97,
   "metadata": {},
   "outputs": [
    {
     "name": "stdout",
     "output_type": "stream",
     "text": [
      "(2, 1000)\n"
     ]
    }
   ],
   "source": [
    "kernelfile = 'data_reduced/Kernel' + str(N)\n",
    "distancefile =  'data_reduced/distance'  + str(N)\n",
    "data_distance = np.array([Jtodo, originaldistance])\n",
    "print(np.shape(data_distance))\n",
    "np.save(kernelfile, originalkernel)\n",
    "np.save(distancefile, data_distance)"
   ]
  },
  {
   "cell_type": "code",
   "execution_count": null,
   "metadata": {},
   "outputs": [],
   "source": []
  }
 ],
 "metadata": {
  "kernelspec": {
   "display_name": "Python 3",
   "language": "python",
   "name": "python3"
  },
  "language_info": {
   "codemirror_mode": {
    "name": "ipython",
    "version": 3
   },
   "file_extension": ".py",
   "mimetype": "text/x-python",
   "name": "python",
   "nbconvert_exporter": "python",
   "pygments_lexer": "ipython3",
   "version": "3.8.3"
  }
 },
 "nbformat": 4,
 "nbformat_minor": 4
}
