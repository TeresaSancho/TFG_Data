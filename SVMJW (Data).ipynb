{
 "cells": [
  {
   "cell_type": "code",
   "execution_count": 1,
   "metadata": {},
   "outputs": [],
   "source": [
    "# Packages for analysis\n",
    "import pandas as pd\n",
    "import numpy as np\n",
    "from sklearn import svm\n",
    "import random as rdm\n",
    "import math\n",
    "\n",
    "import matplotlib.pyplot as plt\n",
    "\n",
    "\n",
    "# Scikit Imports\n",
    "from sklearn import datasets, svm, metrics\n",
    "from sklearn.model_selection import train_test_split\n",
    "from sklearn.svm import SVC\n",
    "from sklearn.metrics import classification_report, confusion_matrix\n",
    "\n",
    "# Packages for analysis\n",
    "import pandas as pd\n"
   ]
  },
  {
   "cell_type": "code",
   "execution_count": 2,
   "metadata": {},
   "outputs": [
    {
     "name": "stdout",
     "output_type": "stream",
     "text": [
      "1998\n",
      "2002\n",
      "1998\n"
     ]
    }
   ],
   "source": [
    "J = []\n",
    "Jtrain = []\n",
    "Jtest = []\n",
    "Jini = 0.9\n",
    "Jfin = 1.1\n",
    "datos = 4000\n",
    "delta=(Jfin-Jini)/datos\n",
    "train= []\n",
    "\n",
    "\n",
    "#intervaltraining\n",
    "\n",
    "[ J.append (Jini + (Jfin-Jini)/datos * i) for i in range (datos)]\n",
    "[ Jtrain.append (J[i]) for i in range (datos) if J[i] < 0.95  and J[i] > 0.9 ]\n",
    "[ Jtrain.append (J[i]) for i in range (datos) if J[i] < 1.1  and J[i] > 1.05 ]\n",
    "[ Jtest.append (J[i]) for i in range (datos) if J[i] not in Jtrain]\n",
    "\n",
    "\"\"\"Jtrainfile= 'dataJW/Jtraininter' \n",
    "np.save(Jtrainfile, Jtrain)\"\"\"\n",
    "\n",
    "print(len(Jtrain))\n",
    "\n",
    "\n",
    "\"\"\"\n",
    "#randomtraining\n",
    "\n",
    "for i in range (180):\n",
    "    n=rdm.randint(0,1000)\n",
    "    if len(train)<132:\n",
    "        if n not in train:\n",
    "            train.append(n)            \n",
    "\n",
    "[ J.append (Jini + delta * i) for i in range (datos) ]\n",
    "[ Jtrain.append(J[i]) for i in train ]\n",
    "[ Jtest.append (J[i]) for i in range (datos) if J[i] not in Jtrain ]\n",
    "\"\"\"\n",
    "\n",
    "teorico_train=[]\n",
    "teorico_test=[]\n",
    "teorico_todo=[]\n",
    "\n",
    "[ teorico_train.append(0) if Jtrain[i] < 1  else teorico_train.append(1) for i in range (len (Jtrain)) ]\n",
    "[ teorico_test.append(0) if Jtest[i] < 1  else teorico_test.append(1) for i in range (len (Jtest)) ]\n",
    "[ teorico_todo.append(0) if J[i] < 1  else teorico_todo.append(1) for i in range (len (J) ) ]\n",
    "\n",
    "\n",
    "print(len(teorico_test))\n",
    "print(len(teorico_train))\n",
    "\n"
   ]
  },
  {
   "cell_type": "code",
   "execution_count": 3,
   "metadata": {},
   "outputs": [],
   "source": [
    "#kernel JW\n",
    "\n",
    "def kernelJW (J, J_p, lista):\n",
    "    ker=np.empty((len(J), len(J_p)))\n",
    "    for i, J1 in enumerate (J, 0):\n",
    "        for j, J2 in enumerate (J_p, 0):\n",
    "            ker[i,j]=1\n",
    "            for a, k in enumerate (lista):\n",
    "                z1 = 1 - J1 * math.cos(k)\n",
    "                z2 = 1 - J2 * math.cos(k)\n",
    "                y1 = J1 * math.sin(k)\n",
    "                y2 = J2 * math.sin(k)\n",
    "                ϵ1 = (J1 ** 2 - 2 * J1 * math.cos(k) + 1) ** (0.5)\n",
    "                ϵ2 = (J2 ** 2 - 2 * J2 * math.cos(k) + 1) ** (0.5)\n",
    "                v1 = y1 / ( 2 * ϵ1 * (ϵ1 + z1) )**(0.5)\n",
    "                v2 = y2 / ( 2 * ϵ2 * (ϵ2 + z2) )**(0.5)\n",
    "                u1 = ( (ϵ1 + z1) / (2 * ϵ1) ) ** (0.5)\n",
    "                u2 = ( (ϵ2 + z2) / (2 * ϵ2) ) ** (0.5)\n",
    "                ker[i,j] *= (u1 * u2 +  abs(v1) * abs(v2))\n",
    "    return (ker)"
   ]
  },
  {
   "cell_type": "code",
   "execution_count": null,
   "metadata": {},
   "outputs": [
    {
     "name": "stdout",
     "output_type": "stream",
     "text": [
      "100\n"
     ]
    }
   ],
   "source": [
    "for N in range(100, 1000, 100):\n",
    "    print(N)\n",
    "    kmax = int (0.5 * N)\n",
    "    #ks = list (range (0, kmax, 1) )\n",
    "    ks = (2 * np.arange(0, kmax, 1) + 1) * math.pi / N\n",
    "    \n",
    "    \"\"\"for j in range ( len(ks) ):\n",
    "        ks[j] = (2 * ks[j] +1) * math.pi/N\"\"\"\n",
    "\n",
    "    #GramMatrix para el modelo\n",
    "    kernel_train = kernelJW (Jtrain, Jtrain, ks)\n",
    "\n",
    "    \"\"\"ktrainfile= 'dataJW/kerneltrain'  + str(N)\n",
    "    np.save(ktrainfile, kernel_train)\"\"\"\n",
    " \n",
    "    kernel_test = kernelJW (Jtest, Jtrain, ks)\n",
    "    kernel_todo = kernelJW (J, Jtrain, ks)\n",
    "    kernelsave = kernelJW (J, J, ks)\n",
    "    \"\"\"plt.imshow(kernelsave,vmin=0,vmax=1, cmap = 'gray')\n",
    "    plt.show()\n",
    "    plt.imshow(kernelsave2,vmin=0,vmax=1, cmap = 'gray')\n",
    "    plt.show()\"\"\"\n",
    "    \n",
    "\n",
    "    #Aplicamos el modelo\n",
    "    model = svm.SVC(kernel = 'precomputed' )\n",
    "    model.fit (kernel_train, teorico_train)\n",
    "    y_train = model.predict(kernel_train)\n",
    "    y_test = model.predict(kernel_test)\n",
    "    distance=model.decision_function(kernel_todo)\n",
    "    supportvs=model.support_\n",
    "    #print(np.shape(distance))\n",
    "    \n",
    "\n",
    "    sv=[]\n",
    "    jsv=[]\n",
    "    for i, n in enumerate(supportvs):\n",
    "        jsv.append(Jtrain[n])\n",
    "\n",
    "\n",
    "        #Cálculo del accuracy  \n",
    "    print(confusion_matrix(teorico_test,y_test))\n",
    "    print(classification_report(teorico_test,y_test))\n",
    "\n",
    "            #Saving data\n",
    "    Jtrainfile= 'dataJW/Jtraindiscrete3' + str(N)\n",
    "    kernelfile = 'dataJW/KernelJWdiscrete3' + str(N)\n",
    "    distancefile =  'dataJW/distanceJWdiscrete3'  + str(N)\n",
    "    supportfile= 'dataJW/supportvsdiscrete3'  + str(N)\n",
    "    data_distance = np.array([J, distance])\n",
    "    np.save(Jtrainfile, Jtrain)\n",
    "    np.save(kernelfile, kernelsave)\n",
    "    np.save(distancefile, data_distance)\n",
    "    np.save(supportfile, jsv)\n"
   ]
  },
  {
   "cell_type": "code",
   "execution_count": null,
   "metadata": {},
   "outputs": [],
   "source": [
    "overlap = np.array([kernelsave[i, i + 1] for i in range(kernelsave.shape[0] - 1)])\n",
    "#J=np.delete(J, 0)\n",
    "plt.plot(J[1:], overlap)\n",
    "χ =  (1 - overlap) / (delta) ** 2\n",
    "#plt.plot(J[1:], χ)"
   ]
  },
  {
   "cell_type": "code",
   "execution_count": null,
   "metadata": {},
   "outputs": [],
   "source": []
  },
  {
   "cell_type": "code",
   "execution_count": null,
   "metadata": {},
   "outputs": [],
   "source": []
  }
 ],
 "metadata": {
  "kernelspec": {
   "display_name": "Python 3",
   "language": "python",
   "name": "python3"
  },
  "language_info": {
   "codemirror_mode": {
    "name": "ipython",
    "version": 3
   },
   "file_extension": ".py",
   "mimetype": "text/x-python",
   "name": "python",
   "nbconvert_exporter": "python",
   "pygments_lexer": "ipython3",
   "version": "3.8.3"
  }
 },
 "nbformat": 4,
 "nbformat_minor": 4
}
